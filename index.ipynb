
        {
            "cells": [
          {
           "cell_type": "markdown",
           "metadata": {},
           
           "source": ["MzIO is a library that consists of a generic model which is based on the minimal amount of metadata, which different protein mass spectometry data formats share with each other. \n",
"The model is built up of different classes, each with a different function. The MzIOModel holds the global metadata of the experiment, e.g. the with of the isolation window and \n",
"is saved as a Json based shadow file. The runID of the MzIOModel links it with the MassSpectrum. \n",
"The MassSpectrum is used to store the metadata of the different scans and is linked by its ID with the Peak1DArray. \n",
"The Peak1DArray contains in addition to the inensity and m/z values the compression mode and the data format of the values, e.g. float 32 or float 64.\n",
"\n",
"\n",
"Samples \u0026 documentation\n",
"-----------------------\n",
"\n",
"The library comes with comprehensible documentation. \n",
"It can include tutorials automatically generated from `*.fsx` files in [the content folder][content]. \n",
"The API reference is automatically generated from Markdown comments in the library implementation.\n",
"\n",
" * [Tutorial](tutorial.html) contains a further explanation of this sample library.\n",
"\n",
" * [API Reference](reference/index.html) contains automatically generated documentation for all types, modules\n",
"   and functions in the library. This includes additional brief samples on using most of the\n",
"   functions.\n",
" \n",
"Contributing and copyright\n",
"--------------------------\n",
"\n",
"The project is hosted on [GitHub][gh] where you can [report issues][issues], fork \n",
"the project and submit pull requests. If you\u0027re adding a new public API, please also \n",
"consider adding [samples][content] that can be turned into a documentation. You might\n",
"also want to read the [library design notes][readme] to understand how it works.\n",
"\n",
"The library is available under Public Domain license, which allows modification and \n",
"redistribution for both commercial and non-commercial purposes. For more information see the \n",
"[License file][license] in the GitHub repository. \n",
"\n",
"  [content]: https://github.com/fsprojects/MzIO/tree/master/docs/content\n",
"  [gh]: https://github.com/fsprojects/MzIO\n",
"  [issues]: https://github.com/fsprojects/MzIO/issues\n",
"  [readme]: https://github.com/fsprojects/MzIO/blob/master/README.md\n",
"  [license]: https://github.com/fsprojects/MzIO/blob/master/LICENSE.txt\n",
"\n"]
          }],
            "metadata": {
            "kernelspec": {"display_name": ".NET (F#)", "language": "F#", "name": ".net-fsharp"},
            "langauge_info": {
        "file_extension": ".fs",
        "mimetype": "text/x-fsharp",
        "name": "C#",
        "pygments_lexer": "fsharp",
        "version": "4.5"
        }
        },
            "nbformat": 4,
            "nbformat_minor": 1
        }
        

