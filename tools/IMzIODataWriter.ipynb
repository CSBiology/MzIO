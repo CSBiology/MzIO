
        {
            "cells": [
          {
           "cell_type": "markdown",
           "metadata": {},
           
           "source": ["All writers in this project implement the interface of the IMzIODataWriter. It contains abstract members \n",
"to interact with the data. Thus all writers can be used with the same processing functions.\n",
"\n",
"###InsertMass\n",
"\n",
"Uses a spectrum ID to insert data from a Peak1DArray into a mass spectrum.\n",
"\n"]
          }
,
          {
           "cell_type": "code",
           "metadata": {},
            "execution_count": 2, "outputs": [], 
           "source": ["writer.InsertMass(\"spectrumID\", massSpec, peak1D)\n"]
          }
,
          {
           "cell_type": "markdown",
           "metadata": {},
           
           "source": ["###InsertChrom\n",
"\n",
"Uses a chromatogram ID to insert data from a Peak2DArray into a chromatogram.\n",
"\n"]
          }
,
          {
           "cell_type": "code",
           "metadata": {},
            "execution_count": 3, "outputs": [], 
           "source": ["writer.InsertChrom(\"chromatogramID\", chromatogram, peak2D)\n"]
          }],
            "metadata": {
            "kernelspec": {"display_name": ".NET (F#)", "language": "F#", "name": ".net-fsharp"},
            "langauge_info": {
        "file_extension": ".fs",
        "mimetype": "text/x-fsharp",
        "name": "C#",
        "pygments_lexer": "fsharp",
        "version": "4.5"
        }
        },
            "nbformat": 4,
            "nbformat_minor": 1
        }
        

