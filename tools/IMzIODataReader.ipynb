
        {
            "cells": [
          {
           "cell_type": "markdown",
           "metadata": {},
           
           "source": ["All readers in this project implement the interface of the IMzIODataReader. It contains abstract members \n",
"to interact with the data. Thus all readers can be used with the same processing functions.\n",
"\n",
"###ReadMassSpectrum\n",
"\n",
"Uses a spectrum ID to get a specific spectrum contained by the model.\n",
"\n"]
          }
,
          {
           "cell_type": "code",
           "metadata": {},
            "execution_count": 2, "outputs": [], 
           "source": ["reader.ReadMassSpectrum \"spectrumID\"\n"]
          }
,
          {
           "cell_type": "markdown",
           "metadata": {},
           
           "source": ["Returns a MassSpectrum which ID is equal to spectrumID or fails if no MassSpectrum has a fitting ID. This MassSpectrum does not contain intensity or m/z values but\n",
"information about precusors, products and meta data information of the measured spectrum.\n",
"\n",
"###ReadMassSpectra\n",
"\n",
"Uses a run ID to get all spectra contained by the model.\n",
"\n"]
          }
,
          {
           "cell_type": "code",
           "metadata": {},
            "execution_count": 3, "outputs": [], 
           "source": ["reader.ReadMassSpectra \"runID\"\n"]
          }
,
          {
           "cell_type": "markdown",
           "metadata": {},
           
           "source": ["This function call returns a sequence of all spectra that are part of the same run. This doesn\u0027t include any intensity and m/z values but the metadata associated \n",
"with the spectra measurments.\n",
"\n",
"###ReadSpectrumPeaks\n",
"\n",
"Uses a spectrum ID to get a Peak1DArray associated with a specific spectrum contained by the model.\n",
"\n"]
          }
,
          {
           "cell_type": "code",
           "metadata": {},
            "execution_count": 4, "outputs": [], 
           "source": ["reader.ReadSpectrumPeaks \"spectrumID\"\n"]
          }
,
          {
           "cell_type": "markdown",
           "metadata": {},
           
           "source": ["This function call returns a Peak1DArray of the MassSpectrum. This class contains the intensity and m/z values and additional information, like the compression mode and data format\n",
"of the values. By changing the compression mode the compression mode of the values will be altered when they get inserted into the SQLite database.\n",
"\n",
"###ReadMassSpectrumAsync\n",
"\n",
"Uses a spectrum ID to get a specific spectrum contained by the model. This function is executed multiple times in parallel.\n",
"\n"]
          }
,
          {
           "cell_type": "code",
           "metadata": {},
            "execution_count": 5, "outputs": [], 
           "source": ["reader.ReadMassSpectrumAsync \"spectrumID\"\n"]
          }
,
          {
           "cell_type": "markdown",
           "metadata": {},
           
           "source": ["Returns a MassSpectrum which ID is equal to spectrumID or fails if no MassSpectrum has a fitting ID. This MassSpectrum does not contain intensity or m/z values but\n",
"information about precusors, products and meta data information of the measured spectrum. The operation is executed in parellel to increase the speed.\n",
"\n",
"###ReadSpectrumPeaksAsync\n",
"\n",
"Uses a spectrum ID to get a Peak1DArray associated with a specific spectrum contained by the model. This function is executed multiple times in parallel.\n",
"\n"]
          }
,
          {
           "cell_type": "code",
           "metadata": {},
            "execution_count": 6, "outputs": [], 
           "source": ["reader.ReadSpectrumPeaksAsync \"spectrumID\"\n"]
          }
,
          {
           "cell_type": "markdown",
           "metadata": {},
           
           "source": ["This function call returns a Peak1DArray of the MassSpectrum. This class contains the intensity and m/z values and additional information, like the compression mode and data format\n",
"of the values. By changing the compression mode the compression mode of the values will be altered when they get inserted into the SQLite database.\n",
"The operation is executed in parellel to increase the speed.\n",
"\n",
"\n",
"###ReadChromatogram\n",
"\n",
"The functions which are required to read a Chromatogram are not implemented yet.\n",
"\n"]
          }
,
          {
           "cell_type": "code",
           "metadata": {},
            "execution_count": 7, "outputs": [], 
           "source": ["reader.ReadChromatograms            \"runID\"\n",
"reader.ReadChromatogram             \"chromatogramID\"\n",
"reader.ReadChromatogramPeaks        \"chromatogramID\"\n",
"reader.ReadChromatogramAsync        \"chromatogramID\"\n",
"reader.ReadChromatogramPeaksAsync   \"chromatogramID\"\n"]
          }],
            "metadata": {
            "kernelspec": {"display_name": ".NET (F#)", "language": "F#", "name": ".net-fsharp"},
            "langauge_info": {
        "file_extension": ".fs",
        "mimetype": "text/x-fsharp",
        "name": "C#",
        "pygments_lexer": "fsharp",
        "version": "4.5"
        }
        },
            "nbformat": 4,
            "nbformat_minor": 1
        }
        

